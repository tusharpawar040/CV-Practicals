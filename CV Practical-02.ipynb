{
 "cells": [
  {
   "cell_type": "code",
   "execution_count": 10,
   "id": "1845c1ab",
   "metadata": {},
   "outputs": [],
   "source": [
    "import cv2"
   ]
  },
  {
   "cell_type": "code",
   "execution_count": 11,
   "id": "88bf6888",
   "metadata": {},
   "outputs": [],
   "source": [
    "image1=cv2.imread(\"don1.jpg\")"
   ]
  },
  {
   "cell_type": "code",
   "execution_count": 12,
   "id": "684d4dde",
   "metadata": {},
   "outputs": [],
   "source": [
    "image2=cv2.imread(\"don2.jpg\")"
   ]
  },
  {
   "cell_type": "code",
   "execution_count": 13,
   "id": "da9d68ae",
   "metadata": {},
   "outputs": [],
   "source": [
    "image3 = image1+image2"
   ]
  },
  {
   "cell_type": "code",
   "execution_count": 14,
   "id": "eb171859",
   "metadata": {},
   "outputs": [
    {
     "data": {
      "text/plain": [
       "True"
      ]
     },
     "execution_count": 14,
     "metadata": {},
     "output_type": "execute_result"
    }
   ],
   "source": [
    "cv2.imwrite(\"addition.jpg\",image3)"
   ]
  },
  {
   "cell_type": "code",
   "execution_count": 15,
   "id": "a50e73c6",
   "metadata": {},
   "outputs": [],
   "source": [
    "image4 = image1-image2"
   ]
  },
  {
   "cell_type": "code",
   "execution_count": 16,
   "id": "719724ba",
   "metadata": {},
   "outputs": [
    {
     "data": {
      "text/plain": [
       "True"
      ]
     },
     "execution_count": 16,
     "metadata": {},
     "output_type": "execute_result"
    }
   ],
   "source": [
    "cv2.imwrite(\"substraction.jpg\",image4)"
   ]
  },
  {
   "cell_type": "code",
   "execution_count": 17,
   "id": "0e433032",
   "metadata": {},
   "outputs": [],
   "source": [
    "image5 = image1*image2"
   ]
  },
  {
   "cell_type": "code",
   "execution_count": 18,
   "id": "8c3aa766",
   "metadata": {},
   "outputs": [
    {
     "data": {
      "text/plain": [
       "True"
      ]
     },
     "execution_count": 18,
     "metadata": {},
     "output_type": "execute_result"
    }
   ],
   "source": [
    "cv2.imwrite(\"multiplication.jpg\",image5)"
   ]
  },
  {
   "cell_type": "code",
   "execution_count": 19,
   "id": "fb9aba4a",
   "metadata": {},
   "outputs": [
    {
     "name": "stderr",
     "output_type": "stream",
     "text": [
      "C:\\Users\\iotlab\\AppData\\Local\\Temp\\ipykernel_13396\\2493578803.py:1: RuntimeWarning: divide by zero encountered in divide\n",
      "  image6 = image1/image2\n"
     ]
    }
   ],
   "source": [
    "image6 = image1/image2"
   ]
  },
  {
   "cell_type": "code",
   "execution_count": 20,
   "id": "14f66178",
   "metadata": {},
   "outputs": [
    {
     "data": {
      "text/plain": [
       "True"
      ]
     },
     "execution_count": 20,
     "metadata": {},
     "output_type": "execute_result"
    }
   ],
   "source": [
    "cv2.imwrite(\"division.jpg\",image6)"
   ]
  },
  {
   "cell_type": "code",
   "execution_count": 21,
   "id": "089cfe18",
   "metadata": {},
   "outputs": [
    {
     "name": "stderr",
     "output_type": "stream",
     "text": [
      "C:\\Users\\iotlab\\AppData\\Local\\Temp\\ipykernel_13396\\900720788.py:1: RuntimeWarning: divide by zero encountered in remainder\n",
      "  image7 = image1%image2\n"
     ]
    }
   ],
   "source": [
    "image7 = image1%image2"
   ]
  },
  {
   "cell_type": "code",
   "execution_count": 22,
   "id": "c65da40b",
   "metadata": {},
   "outputs": [
    {
     "data": {
      "text/plain": [
       "True"
      ]
     },
     "execution_count": 22,
     "metadata": {},
     "output_type": "execute_result"
    }
   ],
   "source": [
    "cv2.imwrite(\"modulo.jpg\",image6)"
   ]
  },
  {
   "cell_type": "code",
   "execution_count": null,
   "id": "7490c749",
   "metadata": {},
   "outputs": [],
   "source": []
  }
 ],
 "metadata": {
  "kernelspec": {
   "display_name": "Python 3 (ipykernel)",
   "language": "python",
   "name": "python3"
  },
  "language_info": {
   "codemirror_mode": {
    "name": "ipython",
    "version": 3
   },
   "file_extension": ".py",
   "mimetype": "text/x-python",
   "name": "python",
   "nbconvert_exporter": "python",
   "pygments_lexer": "ipython3",
   "version": "3.11.4"
  }
 },
 "nbformat": 4,
 "nbformat_minor": 5
}
